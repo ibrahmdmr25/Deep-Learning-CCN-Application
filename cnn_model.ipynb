{
    "cells": [
        {
            "cell_type": "code",
            "execution_count": 30,
            "metadata": {},
            "outputs": [],
            "source": [
                "import tensorflow as tf\n",
                "from tensorflow.keras.preprocessing.image import ImageDataGenerator, img_to_array, load_img\n",
                "import numpy as np\n",
                "import os\n",
                "import cv2\n"
            ]
        },
        {
            "cell_type": "code",
            "execution_count": 31,
            "metadata": {},
            "outputs": [],
            "source": [
                "# Klasör yollarını güncelle\n",
                "inputBasePath = \"C:\\\\Users\\\\İbrahim Demir\\\\Desktop\\\\uygulamalar\\\\belgeler\\\\Yeni_klasor\"\n",
                "outputBasePath = \"C:\\\\Users\\\\İbrahim Demir\\\\Desktop\\\\uygulamalar\\\\belgeler\\\\processed_images\"\n",
                "os.makedirs(outputBasePath, exist_ok=True)\n",
                "\n",
                "image_width = 224\n",
                "image_height = 224\n",
                "classes = ['cat', 'dog']\n"
            ]
        },
        {
            "cell_type": "code",
            "execution_count": 32,
            "metadata": {},
            "outputs": [],
            "source": [
                "X = []\n",
                "Y = []\n",
                "\n",
                "# Resimleri oku ve numpy array'e dönüştür\n",
                "for class1 in classes:\n",
                "    class_path = os.path.join(inputBasePath, class1)\n",
                "    for img_name in os.listdir(class_path):\n",
                "        img_path = os.path.join(class_path, img_name)\n",
                "        img = load_img(img_path, target_size=(image_width, image_height))\n",
                "        img_array = img_to_array(img) / 255.0  # Normalize et\n",
                "        X.append(img_array)\n",
                "        Y.append(classes.index(class1))\n"
            ]
        },
        {
            "cell_type": "code",
            "execution_count": 33,
            "metadata": {},
            "outputs": [],
            "source": [
                "# Veriyi numpy array'e çevir\n",
                "X = np.array(X)\n",
                "Y = np.array(Y)\n"
            ]
        },
        {
            "cell_type": "code",
            "execution_count": 34,
            "metadata": {},
            "outputs": [],
            "source": [
                "# Modeli oluştur\n",
                "model = tf.keras.Sequential([\n",
                "    tf.keras.layers.Conv2D(32, (3, 3), activation='relu', input_shape=(image_width, image_height, 3)),\n",
                "    tf.keras.layers.MaxPooling2D(2, 2),\n",
                "    tf.keras.layers.Conv2D(64, (3, 3), activation='relu'),\n",
                "    tf.keras.layers.MaxPooling2D(2, 2),\n",
                "    tf.keras.layers.Flatten(),\n",
                "    tf.keras.layers.Dense(128, activation='relu'),\n",
                "    tf.keras.layers.Dense(len(classes), activation='softmax')\n",
                "])\n"
            ]
        },
        {
            "cell_type": "code",
            "execution_count": 35,
            "metadata": {},
            "outputs": [],
            "source": [
                "# Modeli derle\n",
                "model.compile(optimizer='adam',\n",
                "              loss='sparse_categorical_crossentropy',\n",
                "              metrics=['accuracy'])\n"
            ]
        },
        {
            "cell_type": "code",
            "execution_count": 36,
            "metadata": {},
            "outputs": [
                {
                    "name": "stdout",
                    "output_type": "stream",
                    "text": [
                        "Epoch 1/5\n",
                        "\u001b[1m7/7\u001b[0m \u001b[32m━━━━━━━━━━━━━━━━━━━━\u001b[0m\u001b[37m\u001b[0m \u001b[1m2s\u001b[0m 212ms/step - accuracy: 0.5466 - loss: 4.2316 - val_accuracy: 0.0000e+00 - val_loss: 2.0725\n",
                        "Epoch 2/5\n",
                        "\u001b[1m7/7\u001b[0m \u001b[32m━━━━━━━━━━━━━━━━━━━━\u001b[0m\u001b[37m\u001b[0m \u001b[1m1s\u001b[0m 195ms/step - accuracy: 0.6638 - loss: 0.7097 - val_accuracy: 0.9184 - val_loss: 0.5757\n",
                        "Epoch 3/5\n",
                        "\u001b[1m7/7\u001b[0m \u001b[32m━━━━━━━━━━━━━━━━━━━━\u001b[0m\u001b[37m\u001b[0m \u001b[1m1s\u001b[0m 187ms/step - accuracy: 0.6528 - loss: 0.6365 - val_accuracy: 0.5102 - val_loss: 0.6833\n",
                        "Epoch 4/5\n",
                        "\u001b[1m7/7\u001b[0m \u001b[32m━━━━━━━━━━━━━━━━━━━━\u001b[0m\u001b[37m\u001b[0m \u001b[1m1s\u001b[0m 189ms/step - accuracy: 0.8494 - loss: 0.5061 - val_accuracy: 0.0204 - val_loss: 2.5364\n",
                        "Epoch 5/5\n",
                        "\u001b[1m7/7\u001b[0m \u001b[32m━━━━━━━━━━━━━━━━━━━━\u001b[0m\u001b[37m\u001b[0m \u001b[1m1s\u001b[0m 197ms/step - accuracy: 0.7690 - loss: 0.4687 - val_accuracy: 0.3469 - val_loss: 0.8760\n"
                    ]
                }
            ],
            "source": [
                "# Modeli eğit\n",
                "history = model.fit(X, Y, epochs=5, validation_split=0.2)\n"
            ]
        },
        {
            "cell_type": "code",
            "execution_count": 38,
            "metadata": {},
            "outputs": [
                {
                    "name": "stdout",
                    "output_type": "stream",
                    "text": [
                        "Eğitim Doğruluğu: 0.7897\n",
                        "Doğrulama Doğruluğu: 0.3469\n"
                    ]
                }
            ],
            "source": [
                "# Modelin doğruluk değerlerini yazdır\n",
                "train_acc = history.history['accuracy'][-1]\n",
                "val_acc = history.history['val_accuracy'][-1]\n",
                "print(f\"Eğitim Doğruluğu: {train_acc:.4f}\")\n",
                "print(f\"Doğrulama Doğruluğu: {val_acc:.4f}\")\n"
            ]
        }
    ],
    "metadata": {
        "kernelspec": {
            "display_name": "Python 3",
            "language": "python",
            "name": "python3"
        },
        "language_info": {
            "codemirror_mode": {
                "name": "ipython",
                "version": 3
            },
            "file_extension": ".py",
            "mimetype": "text/x-python",
            "name": "python",
            "nbconvert_exporter": "python",
            "pygments_lexer": "ipython3",
            "version": "3.11.5"
        }
    },
    "nbformat": 4,
    "nbformat_minor": 4
}
